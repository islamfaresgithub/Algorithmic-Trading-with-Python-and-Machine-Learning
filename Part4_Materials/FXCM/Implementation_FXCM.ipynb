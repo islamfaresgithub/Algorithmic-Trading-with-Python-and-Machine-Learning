{
 "cells": [
  {
   "cell_type": "markdown",
   "metadata": {},
   "source": [
    "# Real-time Implementation and Automation with FXCM "
   ]
  },
  {
   "cell_type": "markdown",
   "metadata": {},
   "source": [
    "## Recap: Historical Data, real-time Data and Orders"
   ]
  },
  {
   "cell_type": "code",
   "execution_count": null,
   "metadata": {},
   "outputs": [],
   "source": [
    "import pandas as pd\n",
    "import fxcmpy"
   ]
  },
  {
   "cell_type": "code",
   "execution_count": null,
   "metadata": {},
   "outputs": [],
   "source": [
    "api = fxcmpy.fxcmpy(config_file= \"fxcm.cfg\")"
   ]
  },
  {
   "cell_type": "code",
   "execution_count": null,
   "metadata": {},
   "outputs": [],
   "source": [
    "api.get_candles(\"EUR/USD\", start = \"2020-07-01\", end = \"2020-07-31\",  period = \"D1\")"
   ]
  },
  {
   "cell_type": "code",
   "execution_count": null,
   "metadata": {},
   "outputs": [],
   "source": [
    "api.get_candles(\"EUR/USD\", number = 10, period = \"m1\")"
   ]
  },
  {
   "cell_type": "code",
   "execution_count": null,
   "metadata": {},
   "outputs": [],
   "source": [
    "api.subscribe_market_data(\"EUR/USD\")"
   ]
  },
  {
   "cell_type": "code",
   "execution_count": null,
   "metadata": {},
   "outputs": [],
   "source": [
    "api.get_subscribed_symbols()"
   ]
  },
  {
   "cell_type": "code",
   "execution_count": null,
   "metadata": {},
   "outputs": [],
   "source": [
    "api.unsubscribe_market_data(\"EUR/USD\")"
   ]
  },
  {
   "cell_type": "code",
   "execution_count": null,
   "metadata": {},
   "outputs": [],
   "source": [
    "def print_data(data, dataframe):\n",
    "    print('%3d | %s | %s, %s, %s'\n",
    "          % (len(dataframe), data['Symbol'],\n",
    "             pd.to_datetime(int(data['Updated']), unit='ms'),\n",
    "             data['Rates'][0], data['Rates'][1]))"
   ]
  },
  {
   "cell_type": "code",
   "execution_count": null,
   "metadata": {},
   "outputs": [],
   "source": [
    "api.subscribe_market_data(\"EUR/USD\", (print_data, ))"
   ]
  },
  {
   "cell_type": "code",
   "execution_count": null,
   "metadata": {},
   "outputs": [],
   "source": [
    "api.unsubscribe_market_data(\"EUR/USD\")"
   ]
  },
  {
   "cell_type": "code",
   "execution_count": null,
   "metadata": {},
   "outputs": [],
   "source": [
    "api.get_open_positions()"
   ]
  },
  {
   "cell_type": "code",
   "execution_count": null,
   "metadata": {},
   "outputs": [],
   "source": [
    "api.create_market_buy_order(\"EUR/USD\", 100)"
   ]
  },
  {
   "cell_type": "code",
   "execution_count": null,
   "metadata": {},
   "outputs": [],
   "source": [
    "order = api.create_market_buy_order(\"EUR/USD\", 100)"
   ]
  },
  {
   "cell_type": "code",
   "execution_count": null,
   "metadata": {},
   "outputs": [],
   "source": [
    "order.get_time()"
   ]
  },
  {
   "cell_type": "code",
   "execution_count": null,
   "metadata": {},
   "outputs": [],
   "source": [
    "order.get_isBuy()"
   ]
  },
  {
   "cell_type": "code",
   "execution_count": null,
   "metadata": {},
   "outputs": [],
   "source": [
    "order.get_currency()"
   ]
  },
  {
   "cell_type": "code",
   "execution_count": null,
   "metadata": {},
   "outputs": [],
   "source": [
    "col = [\"tradeId\", \"amountK\", \"currency\", \"grossPL\", \"isBuy\"]"
   ]
  },
  {
   "cell_type": "code",
   "execution_count": null,
   "metadata": {},
   "outputs": [],
   "source": [
    "api.get_open_positions()[col]"
   ]
  },
  {
   "cell_type": "code",
   "execution_count": null,
   "metadata": {},
   "outputs": [],
   "source": [
    "api.create_market_sell_order(\"EUR/USD\", 200)"
   ]
  },
  {
   "cell_type": "code",
   "execution_count": null,
   "metadata": {},
   "outputs": [],
   "source": [
    "api.get_open_positions()[col]"
   ]
  },
  {
   "cell_type": "code",
   "execution_count": null,
   "metadata": {},
   "outputs": [],
   "source": [
    "api.close_all_for_symbol(\"EUR/USD\")"
   ]
  },
  {
   "cell_type": "code",
   "execution_count": null,
   "metadata": {},
   "outputs": [],
   "source": [
    "api.get_open_positions()"
   ]
  },
  {
   "cell_type": "code",
   "execution_count": null,
   "metadata": {},
   "outputs": [],
   "source": [
    "api.get_closed_positions()[col]"
   ]
  },
  {
   "cell_type": "code",
   "execution_count": null,
   "metadata": {},
   "outputs": [],
   "source": [
    "api.get_closed_positions_summary()[col]"
   ]
  },
  {
   "cell_type": "code",
   "execution_count": null,
   "metadata": {},
   "outputs": [],
   "source": [
    "api.get_accounts().T"
   ]
  },
  {
   "cell_type": "code",
   "execution_count": null,
   "metadata": {},
   "outputs": [],
   "source": [
    "api.close()"
   ]
  },
  {
   "cell_type": "code",
   "execution_count": null,
   "metadata": {},
   "outputs": [],
   "source": []
  },
  {
   "cell_type": "markdown",
   "metadata": {},
   "source": [
    "## Collecting and storing real-time tick data"
   ]
  },
  {
   "cell_type": "code",
   "execution_count": null,
   "metadata": {},
   "outputs": [],
   "source": [
    "import pandas as pd\n",
    "import fxcmpy"
   ]
  },
  {
   "cell_type": "code",
   "execution_count": null,
   "metadata": {},
   "outputs": [],
   "source": [
    "api = fxcmpy.fxcmpy(config_file= \"fxcm.cfg\")"
   ]
  },
  {
   "cell_type": "code",
   "execution_count": null,
   "metadata": {},
   "outputs": [],
   "source": [
    "def print_data(data, dataframe):\n",
    "    print(dataframe)"
   ]
  },
  {
   "cell_type": "code",
   "execution_count": null,
   "metadata": {},
   "outputs": [],
   "source": [
    "api.subscribe_market_data(\"EUR/USD\", (print_data, ))"
   ]
  },
  {
   "cell_type": "code",
   "execution_count": null,
   "metadata": {},
   "outputs": [],
   "source": [
    "api.unsubscribe_market_data(\"EUR/USD\")"
   ]
  },
  {
   "cell_type": "code",
   "execution_count": null,
   "metadata": {},
   "outputs": [],
   "source": [
    "tick_data = None"
   ]
  },
  {
   "cell_type": "code",
   "execution_count": null,
   "metadata": {},
   "outputs": [],
   "source": [
    "def get_tick_data(data, dataframe):\n",
    "    \n",
    "    global tick_data # global variable tick_data\n",
    "    \n",
    "    print('%3d | %s | %s, %s, %s'\n",
    "          % (len(dataframe), data['Symbol'],\n",
    "             pd.to_datetime(int(data['Updated']), unit='ms'),\n",
    "             data['Rates'][0], data['Rates'][1]))\n",
    "    \n",
    "    tick_data = dataframe.iloc[:, :2]"
   ]
  },
  {
   "cell_type": "code",
   "execution_count": null,
   "metadata": {},
   "outputs": [],
   "source": [
    "api.subscribe_market_data(\"EUR/USD\", (get_tick_data, ))"
   ]
  },
  {
   "cell_type": "code",
   "execution_count": null,
   "metadata": {},
   "outputs": [],
   "source": [
    "api.unsubscribe_market_data(\"EUR/USD\")"
   ]
  },
  {
   "cell_type": "code",
   "execution_count": null,
   "metadata": {},
   "outputs": [],
   "source": [
    "tick_data"
   ]
  },
  {
   "cell_type": "code",
   "execution_count": null,
   "metadata": {},
   "outputs": [],
   "source": [
    "tick_data.info()"
   ]
  },
  {
   "cell_type": "code",
   "execution_count": null,
   "metadata": {},
   "outputs": [],
   "source": [
    "api.close()"
   ]
  },
  {
   "cell_type": "code",
   "execution_count": null,
   "metadata": {},
   "outputs": [],
   "source": []
  },
  {
   "cell_type": "markdown",
   "metadata": {},
   "source": [
    "## Storing and resampling real-time tick data"
   ]
  },
  {
   "cell_type": "code",
   "execution_count": null,
   "metadata": {},
   "outputs": [],
   "source": [
    "import pandas as pd\n",
    "import fxcmpy"
   ]
  },
  {
   "cell_type": "code",
   "execution_count": null,
   "metadata": {},
   "outputs": [],
   "source": [
    "api = fxcmpy.fxcmpy(config_file = \"fxcm.cfg\")"
   ]
  },
  {
   "cell_type": "code",
   "execution_count": null,
   "metadata": {},
   "outputs": [],
   "source": [
    "tick_data = None\n",
    "resamp = None\n",
    "bar_length = \"10s\""
   ]
  },
  {
   "cell_type": "code",
   "execution_count": null,
   "metadata": {},
   "outputs": [],
   "source": [
    "def get_tick_data(data, dataframe):\n",
    "    \n",
    "    global tick_data, resamp # global variables\n",
    "    \n",
    "    print('%3d | %s | %s, %s, %s'\n",
    "          % (len(dataframe), data['Symbol'],\n",
    "             pd.to_datetime(int(data['Updated']), unit='ms'),\n",
    "             data['Rates'][0], data['Rates'][1]))\n",
    "    \n",
    "    tick_data = dataframe.iloc[:, :2]\n",
    "    resamp = tick_data.resample(bar_length, label = \"right\").last().ffill().iloc[:-1]\n",
    "    resamp[\"Mid\"] = (resamp.Ask + resamp.Bid)/2"
   ]
  },
  {
   "cell_type": "code",
   "execution_count": null,
   "metadata": {},
   "outputs": [],
   "source": [
    "api.subscribe_market_data(\"EUR/USD\", (get_tick_data, ))"
   ]
  },
  {
   "cell_type": "code",
   "execution_count": null,
   "metadata": {},
   "outputs": [],
   "source": [
    "api.unsubscribe_market_data(\"EUR/USD\")"
   ]
  },
  {
   "cell_type": "code",
   "execution_count": null,
   "metadata": {},
   "outputs": [],
   "source": [
    "tick_data"
   ]
  },
  {
   "cell_type": "code",
   "execution_count": null,
   "metadata": {},
   "outputs": [],
   "source": [
    "resamp"
   ]
  },
  {
   "cell_type": "code",
   "execution_count": null,
   "metadata": {},
   "outputs": [],
   "source": [
    "api.close()"
   ]
  },
  {
   "cell_type": "code",
   "execution_count": null,
   "metadata": {},
   "outputs": [],
   "source": []
  },
  {
   "cell_type": "markdown",
   "metadata": {},
   "source": [
    "## Implementing a Contrarian Strategy in Real-Time (Part 1)"
   ]
  },
  {
   "cell_type": "code",
   "execution_count": null,
   "metadata": {},
   "outputs": [],
   "source": [
    "import pandas as pd\n",
    "import numpy as np\n",
    "import fxcmpy"
   ]
  },
  {
   "cell_type": "code",
   "execution_count": null,
   "metadata": {},
   "outputs": [],
   "source": [
    "api = fxcmpy.fxcmpy(config_file= \"fxcm.cfg\")"
   ]
  },
  {
   "cell_type": "code",
   "execution_count": null,
   "metadata": {},
   "outputs": [],
   "source": [
    "tick_data = None\n",
    "resamp = None\n",
    "bar_length = \"5s\"\n",
    "window = 1\n",
    "ticks = 0"
   ]
  },
  {
   "cell_type": "code",
   "execution_count": null,
   "metadata": {},
   "outputs": [],
   "source": [
    "def con_trader(data, dataframe):\n",
    "    \n",
    "    global tick_data, resamp, ticks # global variables\n",
    "    \n",
    "    ticks += 1\n",
    "    print(ticks, end = \" \")\n",
    "    \n",
    "    # store and resample tick data\n",
    "    tick_data = dataframe.iloc[:, :2]\n",
    "    resamp = tick_data.resample(bar_length, label = \"right\").last().ffill().iloc[:-1]\n",
    "    resamp[\"Mid\"] = (resamp.Ask + resamp.Bid)/2\n",
    "    \n",
    "    # prepare data & define strategy\n",
    "    resamp[\"returns\"] = np.log(resamp.Mid / resamp.Mid.shift(1))\n",
    "    resamp[\"position\"] = -np.sign(resamp.returns.rolling(window).mean())"
   ]
  },
  {
   "cell_type": "code",
   "execution_count": null,
   "metadata": {},
   "outputs": [],
   "source": [
    "for i in range(10):\n",
    "    print(i)"
   ]
  },
  {
   "cell_type": "code",
   "execution_count": null,
   "metadata": {},
   "outputs": [],
   "source": [
    "api.subscribe_market_data(\"EUR/USD\", (con_trader, ))"
   ]
  },
  {
   "cell_type": "code",
   "execution_count": null,
   "metadata": {},
   "outputs": [],
   "source": [
    "api.unsubscribe_market_data(\"EUR/USD\")"
   ]
  },
  {
   "cell_type": "code",
   "execution_count": null,
   "metadata": {},
   "outputs": [],
   "source": [
    "tick_data"
   ]
  },
  {
   "cell_type": "code",
   "execution_count": null,
   "metadata": {},
   "outputs": [],
   "source": [
    "resamp"
   ]
  },
  {
   "cell_type": "code",
   "execution_count": null,
   "metadata": {},
   "outputs": [],
   "source": [
    "api.close()"
   ]
  },
  {
   "cell_type": "code",
   "execution_count": null,
   "metadata": {},
   "outputs": [],
   "source": []
  },
  {
   "cell_type": "markdown",
   "metadata": {},
   "source": [
    "## Implementing a Contrarian Strategy in Real-Time (Part 2)"
   ]
  },
  {
   "cell_type": "code",
   "execution_count": null,
   "metadata": {},
   "outputs": [],
   "source": [
    "import pandas as pd\n",
    "import numpy as np\n",
    "import fxcmpy"
   ]
  },
  {
   "cell_type": "code",
   "execution_count": null,
   "metadata": {},
   "outputs": [],
   "source": [
    "api = fxcmpy.fxcmpy(config_file= \"fxcm.cfg\")"
   ]
  },
  {
   "cell_type": "code",
   "execution_count": null,
   "metadata": {},
   "outputs": [],
   "source": [
    "tick_data = None\n",
    "resamp = None\n",
    "bar_length = \"5s\"\n",
    "window = 1\n",
    "ticks = 0\n",
    "position = 0\n",
    "units = 100\n",
    "instrument = \"EUR/USD\"\n",
    "min_length = window + 1"
   ]
  },
  {
   "cell_type": "markdown",
   "metadata": {},
   "source": [
    "The following code assumes a __Netting Account__ (NOT Hedging)"
   ]
  },
  {
   "cell_type": "code",
   "execution_count": null,
   "metadata": {},
   "outputs": [],
   "source": [
    "def con_trader(data, dataframe):\n",
    "    \n",
    "    global tick_data, resamp, ticks, position, min_length # global variables\n",
    "    \n",
    "    ticks += 1\n",
    "    print(ticks, end = \" \")\n",
    "    \n",
    "    # store and resample tick data\n",
    "    tick_data = dataframe.iloc[:, :2]\n",
    "    resamp = tick_data.resample(bar_length, label = \"right\").last().ffill().iloc[:-1]\n",
    "    resamp[\"Mid\"] = (resamp.Ask + resamp.Bid)/2\n",
    "    \n",
    "    # prepare data & define strategy\n",
    "    resamp[\"returns\"] = np.log(resamp.Mid / resamp.Mid.shift(1))\n",
    "    resamp[\"position\"] = -np.sign(resamp.returns.rolling(window).mean())\n",
    " \n",
    "    # executing trades\n",
    "    if len(resamp) > min_length - 1: # if a new bar is added: go through if/elif\n",
    "        min_length += 1\n",
    "        if resamp[\"position\"].iloc[-1] == 1: # if signal is long\n",
    "            if position == 0:\n",
    "                order = api.create_market_buy_order(instrument, units) # buy 1 * units if position is neutral (\"1 trade\")\n",
    "                print(2*\"\\n\" + \"{} | GO LONG\".format(str(order.get_time())) + \"\\n\")\n",
    "            elif position == -1:\n",
    "                order = api.create_market_buy_order(instrument, 2 * units) # buy 2 * units if position is short (\"2 trades\") \n",
    "                print(2*\"\\n\" + \"{} | GO LONG\".format(str(order.get_time())) + \"\\n\")\n",
    "            position = 1\n",
    "        elif resamp[\"position\"].iloc[-1] == -1: # if signal is short\n",
    "            if position == 0:\n",
    "                order = api.create_market_sell_order(instrument, units) # sell 1 * units if position is neutral (\"1 trade\")\n",
    "                print(2*\"\\n\" + \"{} | GO SHORT\".format(str(order.get_time())) + \"\\n\")\n",
    "            elif position == 1:\n",
    "                order = api.create_market_sell_order(instrument, 2 * units) # sell 2 * units if position is long (\"2 trades\")\n",
    "                print(2*\"\\n\" + \"{} | GO SHORT\".format(str(order.get_time())) + \"\\n\")\n",
    "            position = -1        "
   ]
  },
  {
   "cell_type": "markdown",
   "metadata": {},
   "source": [
    "## Implementing a Contrarian Strategy in Real-Time (Part 3)"
   ]
  },
  {
   "cell_type": "code",
   "execution_count": null,
   "metadata": {},
   "outputs": [],
   "source": [
    "api.subscribe_market_data(\"EUR/USD\", (con_trader, ))"
   ]
  },
  {
   "cell_type": "code",
   "execution_count": null,
   "metadata": {},
   "outputs": [],
   "source": [
    "api.close_all_for_symbol(instrument)\n",
    "api.unsubscribe_market_data(\"EUR/USD\")"
   ]
  },
  {
   "cell_type": "code",
   "execution_count": null,
   "metadata": {},
   "outputs": [],
   "source": [
    "api.get_open_positions()"
   ]
  },
  {
   "cell_type": "code",
   "execution_count": null,
   "metadata": {},
   "outputs": [],
   "source": [
    "col = [\"tradeId\", \"amountK\", \"currency\", \"grossPL\", \"isBuy\"]"
   ]
  },
  {
   "cell_type": "code",
   "execution_count": null,
   "metadata": {
    "scrolled": false
   },
   "outputs": [],
   "source": [
    "api.get_closed_positions()[col][-3:]"
   ]
  },
  {
   "cell_type": "code",
   "execution_count": null,
   "metadata": {},
   "outputs": [],
   "source": [
    "api.get_closed_positions_summary()[col]"
   ]
  },
  {
   "cell_type": "code",
   "execution_count": null,
   "metadata": {},
   "outputs": [],
   "source": [
    "resamp"
   ]
  },
  {
   "cell_type": "code",
   "execution_count": null,
   "metadata": {},
   "outputs": [],
   "source": [
    "api.close()"
   ]
  },
  {
   "cell_type": "code",
   "execution_count": null,
   "metadata": {},
   "outputs": [],
   "source": []
  },
  {
   "cell_type": "markdown",
   "metadata": {},
   "source": [
    "## Implementing a Contrarian Strategy in Real-Time (Part 4)"
   ]
  },
  {
   "cell_type": "code",
   "execution_count": null,
   "metadata": {},
   "outputs": [],
   "source": [
    "import pandas as pd\n",
    "import numpy as np\n",
    "import fxcmpy"
   ]
  },
  {
   "cell_type": "code",
   "execution_count": null,
   "metadata": {},
   "outputs": [],
   "source": [
    "api = fxcmpy.fxcmpy(config_file= \"fxcm.cfg\")"
   ]
  },
  {
   "cell_type": "code",
   "execution_count": null,
   "metadata": {},
   "outputs": [],
   "source": [
    "tick_data = None\n",
    "resamp = None\n",
    "bar_length = \"5s\"\n",
    "window = 1\n",
    "ticks = 0\n",
    "position = 0\n",
    "units = 100\n",
    "instrument = \"EUR/USD\"\n",
    "min_length = window + 1"
   ]
  },
  {
   "cell_type": "code",
   "execution_count": null,
   "metadata": {},
   "outputs": [],
   "source": [
    "col = [\"tradeId\", \"amountK\", \"currency\", \"grossPL\", \"isBuy\"]"
   ]
  },
  {
   "cell_type": "code",
   "execution_count": null,
   "metadata": {},
   "outputs": [],
   "source": [
    "def con_trader(data, dataframe):\n",
    "    \n",
    "    global tick_data, resamp, ticks, position, min_length # global variables\n",
    "    \n",
    "    ticks += 1\n",
    "    print(ticks, end = \" \")\n",
    "    \n",
    "    # store and resample tick data\n",
    "    tick_data = dataframe.iloc[:, :2]\n",
    "    resamp = tick_data.resample(bar_length, label = \"right\").last().ffill().iloc[:-1]\n",
    "    resamp[\"Mid\"] = (resamp.Ask + resamp.Bid)/2\n",
    "    \n",
    "    # prepare data & define strategy\n",
    "    resamp[\"returns\"] = np.log(resamp.Mid / resamp.Mid.shift(1))\n",
    "    resamp[\"position\"] = -np.sign(resamp.returns.rolling(window).mean())\n",
    " \n",
    "    # executing trades\n",
    "    if len(resamp) > min_length - 1: # if a new bar is added: go through if/elif\n",
    "        min_length += 1\n",
    "        if resamp[\"position\"].iloc[-1] == 1: # if signal is long\n",
    "            if position == 0:\n",
    "                order = api.create_market_buy_order(instrument, units) # buy 1 * units if position is neutral (\"1 trade\")\n",
    "                print(2*\"\\n\" + \"{} | GO LONG | unreal P&L: {}\".format(str(order.get_time()), api.get_open_positions().grossPL.sum()) + \"\\n\")\n",
    "            elif position == -1:\n",
    "                order = api.create_market_buy_order(instrument, 2 * units) # buy 2 * units if position is short (\"2 trades\") \n",
    "                print(2*\"\\n\" + \"{} | GO LONG | unreal P&L: {}\".format(str(order.get_time()), api.get_open_positions().grossPL.sum()) + \"\\n\")\n",
    "            position = 1\n",
    "        elif resamp[\"position\"].iloc[-1] == -1: # if signal is short\n",
    "            if position == 0:\n",
    "                order = api.create_market_sell_order(instrument, units) # sell 1 * units if position is neutral (\"1 trade\")\n",
    "                print(2*\"\\n\" + \"{} | GO SHORT | unreal P&L: {}\".format(str(order.get_time()), api.get_open_positions().grossPL.sum()) + \"\\n\")\n",
    "            elif position == 1:\n",
    "                order = api.create_market_sell_order(instrument, 2 * units) # sell 2 * units if position is long (\"2 trades\")\n",
    "                print(2*\"\\n\" + \"{} | GO SHORT | unreal P&L: {}\".format(str(order.get_time()), api.get_open_positions().grossPL.sum()) + \"\\n\")\n",
    "            position = -1    \n",
    "            \n",
    "    # define trading stop\n",
    "    if ticks > 50:\n",
    "        api.close_all_for_symbol(instrument)\n",
    "        api.unsubscribe_market_data(\"EUR/USD\")\n",
    "        print(2*\"\\n\" + \"{} | GO NEUTRAL\".format(str(tick_data.index[-1])) + \"\\n\")\n",
    "        print(api.get_closed_positions_summary()[col])"
   ]
  },
  {
   "cell_type": "code",
   "execution_count": null,
   "metadata": {},
   "outputs": [],
   "source": [
    "api.subscribe_market_data(\"EUR/USD\", (con_trader, ))"
   ]
  },
  {
   "cell_type": "code",
   "execution_count": null,
   "metadata": {},
   "outputs": [],
   "source": []
  }
 ],
 "metadata": {
  "kernelspec": {
   "display_name": "Python 3",
   "language": "python",
   "name": "python3"
  },
  "language_info": {
   "codemirror_mode": {
    "name": "ipython",
    "version": 3
   },
   "file_extension": ".py",
   "mimetype": "text/x-python",
   "name": "python",
   "nbconvert_exporter": "python",
   "pygments_lexer": "ipython3",
   "version": "3.8.3"
  }
 },
 "nbformat": 4,
 "nbformat_minor": 2
}
